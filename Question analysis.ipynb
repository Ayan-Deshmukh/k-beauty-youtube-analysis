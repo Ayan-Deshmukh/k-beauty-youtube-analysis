{
 "cells": [
  {
   "cell_type": "code",
   "execution_count": 147,
   "id": "e2706ce1-1ecc-42eb-9ace-d0539bf1800a",
   "metadata": {},
   "outputs": [],
   "source": [
    "# Took help from ChatGPT during data cleaning\n",
    "import pandas as pd\n",
    "import re\n",
    "import string\n",
    "from collections import Counter"
   ]
  },
  {
   "cell_type": "code",
   "execution_count": 3,
   "id": "cba9e92a-038e-49af-91b3-0a97738c59f9",
   "metadata": {},
   "outputs": [],
   "source": [
    "# Load Excel file\n",
    "comments_df = pd.read_excel(\"Data.xlsx\", sheet_name=\"Comments\")"
   ]
  },
  {
   "cell_type": "code",
   "execution_count": 5,
   "id": "26e5f92d-56aa-4328-b798-2f4eee7c19a5",
   "metadata": {},
   "outputs": [],
   "source": [
    "# Clean up and prepare the data\n",
    "comments_df = comments_df.dropna(subset=[\"Comment\"])\n",
    "comments_df['Comment'] = comments_df['Comment'].astype(str)"
   ]
  },
  {
   "cell_type": "code",
   "execution_count": 7,
   "id": "df906c9e-c0ad-427d-b69c-4175c856be61",
   "metadata": {},
   "outputs": [],
   "source": [
    "# Filter for question comments -- Looking for question mark(?)\n",
    "question_comments = comments_df[comments_df['Comment'].str.contains(r'\\?', regex=True)]"
   ]
  },
  {
   "cell_type": "code",
   "execution_count": 149,
   "id": "da196156-40a6-437d-a25e-2bc5b991a290",
   "metadata": {},
   "outputs": [],
   "source": [
    "# Save the number of detected questions\n",
    "total_questions = len(question_comments)"
   ]
  },
  {
   "cell_type": "code",
   "execution_count": 13,
   "id": "a363fabf-359b-4bef-a323-002204f7ca86",
   "metadata": {},
   "outputs": [],
   "source": [
    "# Clean function for question keywords\n",
    "def clean_question(text):\n",
    "    text = text.lower()\n",
    "    text = re.sub(r\"[^\\w\\s]\", \"\", text)\n",
    "    return text\n",
    "\n",
    "question_comments.loc[:, 'Cleaned'] = question_comments['Comment'].apply(clean_question)"
   ]
  },
  {
   "cell_type": "code",
   "execution_count": 15,
   "id": "84b381d7-1f2c-46f1-bd70-5d6491436243",
   "metadata": {},
   "outputs": [],
   "source": [
    "# Tokenize and count frequency\n",
    "all_question_words = \" \".join(question_comments['Cleaned']).split()"
   ]
  },
  {
   "cell_type": "code",
   "execution_count": 133,
   "id": "978d0a49-35ed-4d7b-a095-2dece12961cd",
   "metadata": {},
   "outputs": [],
   "source": [
    "# Simple stopword list (manually added words which we should skip during analysis)\n",
    "custom_stopwords = ['i', 'you', 'the', 'and', 'but', 'what', 'how', 'can', 'is', 'it', 'this', 'a', 'to', 'do', 'my', 'in', 'for', 'have', 'that', 'your', \n",
    "                    'are', 'with', 'they', 'video', 'would', 'not', 'from', 'just', 'all', 'any', 'one', 'was', 'know', 'its', 'their', 'also', 'please', 'get', \n",
    "                    'because', 'these', 'much', 'there', 'which', 'when', 'really', 'does', 'thank', 'them', 'using', 'some', 'has', 'dont', 'iâm', 'been', \n",
    "                    'videos', 'out' ]\n",
    "filtered_words = [word for word in all_question_words if word not in custom_stopwords and len(word) > 2]\n",
    "filtered_freq = Counter(filtered_words)\n"
   ]
  },
  {
   "cell_type": "code",
   "execution_count": 135,
   "id": "5afbb6de-5634-489e-a2cd-84dbef51a523",
   "metadata": {},
   "outputs": [],
   "source": [
    "# Top keywords\n",
    "top_keywords = filtered_freq.most_common(20)"
   ]
  },
  {
   "cell_type": "code",
   "execution_count": 137,
   "id": "47339aea-1c46-49a7-8fd6-6028e1caa372",
   "metadata": {},
   "outputs": [],
   "source": [
    "# Sample questions\n",
    "sample_questions = question_comments['Comment'].head(10).tolist()"
   ]
  },
  {
   "cell_type": "code",
   "execution_count": 143,
   "id": "edce07ac-e29d-4cda-a11c-7031bd8ed4c4",
   "metadata": {},
   "outputs": [
    {
     "name": "stdout",
     "output_type": "stream",
     "text": [
      "\n",
      " || K-Beauty YouTube Comment Question Analysis ||\n",
      "Total Questions Detected: 762\n",
      "\n",
      "Top 20 Keywords in Questions:\n",
      "skin: 226\n",
      "sunscreen: 191\n",
      "products: 121\n",
      "about: 121\n",
      "use: 113\n",
      "love: 110\n",
      "korean: 110\n",
      "like: 85\n",
      "sunscreens: 67\n",
      "serum: 64\n",
      "tried: 62\n",
      "good: 62\n",
      "face: 61\n",
      "skincare: 61\n",
      "sun: 53\n",
      "makeup: 43\n",
      "think: 42\n",
      "beauty: 42\n",
      "care: 40\n",
      "cream: 39\n",
      "\n",
      "Sample Questions:\n",
      "1. someone said Volufiline need a more \"fat\" moisturizer to help skin accumulate fats better to plump up the skin, is that true? if it is, anyone have any rec for moisturizer that can fill up that role?\n",
      "2. I havenâ€™t seen one of his videos in prob at least a year. His face looks great and much slimmer. What changes has he made or is it weight loss? Botox? Spill the tea\n",
      "3. Can I use the Sungboon lifting ampoule with retinal? On the days I dont use it?\n",
      "4. Your NOT greasy! I was admiring how glowing your skin looked â¤ï¸ anything recommendations for dark spots?\n",
      "5. Can I use several serum and how do I know which serum to apply first?\n",
      "6. Love this, thank you!! I notice some familiar products on your shelf in the back (Dieux, The Ordinary, Aestura maybe?)- can you please tell us what else is on there??\n",
      "7. Hello! What do u think about numbuzin number 9 serum and mask?\n",
      "8. what about red reedleshot? I am so tempted to buy it. can you review it for me?\n",
      "9. how about Retinol Reedle Shot? I've been so curious about it especially during the summer for the pores!\n",
      "10. Have you guys tried the new cos de baha products? Currently using their new OTC 20% Azelaic Acid cream\n"
     ]
    }
   ],
   "source": [
    "# Display results\n",
    "print(\"\\n || K-Beauty YouTube Comment Question Analysis ||\")\n",
    "print(f\"Total Questions Detected: {total_questions}\\n\")\n",
    "print(\"Top 20 Keywords in Questions:\")\n",
    "for word, count in top_keywords:\n",
    "    print(f\"{word}: {count}\")\n",
    "\n",
    "print(\"\\nSample Questions:\")\n",
    "for i, question in enumerate(sample_questions, start=1):\n",
    "    print(f\"{i}. {question}\")"
   ]
  },
  {
   "cell_type": "code",
   "execution_count": 145,
   "id": "2ec0cd77-c673-4715-a001-315830965acd",
   "metadata": {},
   "outputs": [],
   "source": [
    "# Thank you! hope you liked it <3"
   ]
  }
 ],
 "metadata": {
  "kernelspec": {
   "display_name": "Python 3 (ipykernel)",
   "language": "python",
   "name": "python3"
  },
  "language_info": {
   "codemirror_mode": {
    "name": "ipython",
    "version": 3
   },
   "file_extension": ".py",
   "mimetype": "text/x-python",
   "name": "python",
   "nbconvert_exporter": "python",
   "pygments_lexer": "ipython3",
   "version": "3.12.4"
  }
 },
 "nbformat": 4,
 "nbformat_minor": 5
}
